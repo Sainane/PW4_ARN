{
  "cells": [
    {
      "cell_type": "markdown",
      "metadata": {
        "id": "HkLUJVa1bfNW"
      },
      "source": [
        "# Convolutional Neural Networks\n",
        "This notebook will guide you through the use of the `keras` package to train convolutional neural networks for handwritten digits classification. You are going to use the `mnist` dataset from LeCun et al. 1998."
      ]
    },
    {
      "cell_type": "markdown",
      "metadata": {
        "id": "SjQUQygFbfNb"
      },
      "source": [
        "## Loading the packages"
      ]
    },
    {
      "cell_type": "code",
      "execution_count": 11,
      "metadata": {
        "colab": {
          "base_uri": "https://localhost:8080/"
        },
        "id": "h7O8MewabfNj",
        "outputId": "a46781c8-1441-49c4-aca2-3402d4f1f0ac"
      },
      "outputs": [
        {
          "name": "stdout",
          "output_type": "stream",
          "text": [
            "Requirement already satisfied: tensorflow in /home/sainane/anaconda3/envs/arn/lib/python3.9/site-packages (2.16.1)\n",
            "Requirement already satisfied: absl-py>=1.0.0 in /home/sainane/anaconda3/envs/arn/lib/python3.9/site-packages (from tensorflow) (2.1.0)\n",
            "Requirement already satisfied: astunparse>=1.6.0 in /home/sainane/anaconda3/envs/arn/lib/python3.9/site-packages (from tensorflow) (1.6.3)\n",
            "Requirement already satisfied: flatbuffers>=23.5.26 in /home/sainane/anaconda3/envs/arn/lib/python3.9/site-packages (from tensorflow) (24.3.7)\n",
            "Requirement already satisfied: gast!=0.5.0,!=0.5.1,!=0.5.2,>=0.2.1 in /home/sainane/anaconda3/envs/arn/lib/python3.9/site-packages (from tensorflow) (0.5.4)\n",
            "Requirement already satisfied: google-pasta>=0.1.1 in /home/sainane/anaconda3/envs/arn/lib/python3.9/site-packages (from tensorflow) (0.2.0)\n",
            "Requirement already satisfied: h5py>=3.10.0 in /home/sainane/anaconda3/envs/arn/lib/python3.9/site-packages (from tensorflow) (3.10.0)\n",
            "Requirement already satisfied: libclang>=13.0.0 in /home/sainane/anaconda3/envs/arn/lib/python3.9/site-packages (from tensorflow) (18.1.1)\n",
            "Requirement already satisfied: ml-dtypes~=0.3.1 in /home/sainane/anaconda3/envs/arn/lib/python3.9/site-packages (from tensorflow) (0.3.2)\n",
            "Requirement already satisfied: opt-einsum>=2.3.2 in /home/sainane/anaconda3/envs/arn/lib/python3.9/site-packages (from tensorflow) (3.3.0)\n",
            "Requirement already satisfied: packaging in /home/sainane/anaconda3/envs/arn/lib/python3.9/site-packages (from tensorflow) (23.2)\n",
            "Requirement already satisfied: protobuf!=4.21.0,!=4.21.1,!=4.21.2,!=4.21.3,!=4.21.4,!=4.21.5,<5.0.0dev,>=3.20.3 in /home/sainane/anaconda3/envs/arn/lib/python3.9/site-packages (from tensorflow) (4.25.3)\n",
            "Requirement already satisfied: requests<3,>=2.21.0 in /home/sainane/anaconda3/envs/arn/lib/python3.9/site-packages (from tensorflow) (2.31.0)\n",
            "Requirement already satisfied: setuptools in /home/sainane/anaconda3/envs/arn/lib/python3.9/site-packages (from tensorflow) (68.2.2)\n",
            "Requirement already satisfied: six>=1.12.0 in /home/sainane/anaconda3/envs/arn/lib/python3.9/site-packages (from tensorflow) (1.16.0)\n",
            "Requirement already satisfied: termcolor>=1.1.0 in /home/sainane/anaconda3/envs/arn/lib/python3.9/site-packages (from tensorflow) (2.4.0)\n",
            "Requirement already satisfied: typing-extensions>=3.6.6 in /home/sainane/anaconda3/envs/arn/lib/python3.9/site-packages (from tensorflow) (4.9.0)\n",
            "Requirement already satisfied: wrapt>=1.11.0 in /home/sainane/anaconda3/envs/arn/lib/python3.9/site-packages (from tensorflow) (1.16.0)\n",
            "Requirement already satisfied: grpcio<2.0,>=1.24.3 in /home/sainane/anaconda3/envs/arn/lib/python3.9/site-packages (from tensorflow) (1.62.1)\n",
            "Requirement already satisfied: tensorboard<2.17,>=2.16 in /home/sainane/anaconda3/envs/arn/lib/python3.9/site-packages (from tensorflow) (2.16.2)\n",
            "Requirement already satisfied: keras>=3.0.0 in /home/sainane/anaconda3/envs/arn/lib/python3.9/site-packages (from tensorflow) (3.3.2)\n",
            "Requirement already satisfied: tensorflow-io-gcs-filesystem>=0.23.1 in /home/sainane/anaconda3/envs/arn/lib/python3.9/site-packages (from tensorflow) (0.36.0)\n",
            "Requirement already satisfied: numpy<2.0.0,>=1.23.5 in /home/sainane/anaconda3/envs/arn/lib/python3.9/site-packages (from tensorflow) (1.26.4)\n",
            "Requirement already satisfied: wheel<1.0,>=0.23.0 in /home/sainane/anaconda3/envs/arn/lib/python3.9/site-packages (from astunparse>=1.6.0->tensorflow) (0.41.2)\n",
            "Requirement already satisfied: rich in /home/sainane/anaconda3/envs/arn/lib/python3.9/site-packages (from keras>=3.0.0->tensorflow) (13.7.1)\n",
            "Requirement already satisfied: namex in /home/sainane/anaconda3/envs/arn/lib/python3.9/site-packages (from keras>=3.0.0->tensorflow) (0.0.7)\n",
            "Requirement already satisfied: optree in /home/sainane/anaconda3/envs/arn/lib/python3.9/site-packages (from keras>=3.0.0->tensorflow) (0.10.0)\n",
            "Requirement already satisfied: charset-normalizer<4,>=2 in /home/sainane/anaconda3/envs/arn/lib/python3.9/site-packages (from requests<3,>=2.21.0->tensorflow) (2.0.4)\n",
            "Requirement already satisfied: idna<4,>=2.5 in /home/sainane/anaconda3/envs/arn/lib/python3.9/site-packages (from requests<3,>=2.21.0->tensorflow) (3.4)\n",
            "Requirement already satisfied: urllib3<3,>=1.21.1 in /home/sainane/anaconda3/envs/arn/lib/python3.9/site-packages (from requests<3,>=2.21.0->tensorflow) (2.1.0)\n",
            "Requirement already satisfied: certifi>=2017.4.17 in /home/sainane/anaconda3/envs/arn/lib/python3.9/site-packages (from requests<3,>=2.21.0->tensorflow) (2024.2.2)\n",
            "Requirement already satisfied: markdown>=2.6.8 in /home/sainane/anaconda3/envs/arn/lib/python3.9/site-packages (from tensorboard<2.17,>=2.16->tensorflow) (3.6)\n",
            "Requirement already satisfied: tensorboard-data-server<0.8.0,>=0.7.0 in /home/sainane/anaconda3/envs/arn/lib/python3.9/site-packages (from tensorboard<2.17,>=2.16->tensorflow) (0.7.2)\n",
            "Requirement already satisfied: werkzeug>=1.0.1 in /home/sainane/anaconda3/envs/arn/lib/python3.9/site-packages (from tensorboard<2.17,>=2.16->tensorflow) (3.0.1)\n",
            "Requirement already satisfied: importlib-metadata>=4.4 in /home/sainane/anaconda3/envs/arn/lib/python3.9/site-packages (from markdown>=2.6.8->tensorboard<2.17,>=2.16->tensorflow) (7.0.1)\n",
            "Requirement already satisfied: MarkupSafe>=2.1.1 in /home/sainane/anaconda3/envs/arn/lib/python3.9/site-packages (from werkzeug>=1.0.1->tensorboard<2.17,>=2.16->tensorflow) (2.1.3)\n",
            "Requirement already satisfied: markdown-it-py>=2.2.0 in /home/sainane/anaconda3/envs/arn/lib/python3.9/site-packages (from rich->keras>=3.0.0->tensorflow) (3.0.0)\n",
            "Requirement already satisfied: pygments<3.0.0,>=2.13.0 in /home/sainane/anaconda3/envs/arn/lib/python3.9/site-packages (from rich->keras>=3.0.0->tensorflow) (2.15.1)\n",
            "Requirement already satisfied: zipp>=0.5 in /home/sainane/anaconda3/envs/arn/lib/python3.9/site-packages (from importlib-metadata>=4.4->markdown>=2.6.8->tensorboard<2.17,>=2.16->tensorflow) (3.17.0)\n",
            "Requirement already satisfied: mdurl~=0.1 in /home/sainane/anaconda3/envs/arn/lib/python3.9/site-packages (from markdown-it-py>=2.2.0->rich->keras>=3.0.0->tensorflow) (0.1.2)\n",
            "Note: you may need to restart the kernel to use updated packages.\n",
            "Requirement already satisfied: keras in /home/sainane/anaconda3/envs/arn/lib/python3.9/site-packages (3.3.2)\n",
            "Requirement already satisfied: absl-py in /home/sainane/anaconda3/envs/arn/lib/python3.9/site-packages (from keras) (2.1.0)\n",
            "Requirement already satisfied: numpy in /home/sainane/anaconda3/envs/arn/lib/python3.9/site-packages (from keras) (1.26.4)\n",
            "Requirement already satisfied: rich in /home/sainane/anaconda3/envs/arn/lib/python3.9/site-packages (from keras) (13.7.1)\n",
            "Requirement already satisfied: namex in /home/sainane/anaconda3/envs/arn/lib/python3.9/site-packages (from keras) (0.0.7)\n",
            "Requirement already satisfied: h5py in /home/sainane/anaconda3/envs/arn/lib/python3.9/site-packages (from keras) (3.10.0)\n",
            "Requirement already satisfied: optree in /home/sainane/anaconda3/envs/arn/lib/python3.9/site-packages (from keras) (0.10.0)\n",
            "Requirement already satisfied: ml-dtypes in /home/sainane/anaconda3/envs/arn/lib/python3.9/site-packages (from keras) (0.3.2)\n",
            "Requirement already satisfied: typing-extensions>=4.0.0 in /home/sainane/anaconda3/envs/arn/lib/python3.9/site-packages (from optree->keras) (4.9.0)\n",
            "Requirement already satisfied: markdown-it-py>=2.2.0 in /home/sainane/anaconda3/envs/arn/lib/python3.9/site-packages (from rich->keras) (3.0.0)\n",
            "Requirement already satisfied: pygments<3.0.0,>=2.13.0 in /home/sainane/anaconda3/envs/arn/lib/python3.9/site-packages (from rich->keras) (2.15.1)\n",
            "Requirement already satisfied: mdurl~=0.1 in /home/sainane/anaconda3/envs/arn/lib/python3.9/site-packages (from markdown-it-py>=2.2.0->rich->keras) (0.1.2)\n",
            "Note: you may need to restart the kernel to use updated packages.\n"
          ]
        }
      ],
      "source": [
        "%pip install tensorflow --upgrade\n",
        "%pip install keras --upgrade\n",
        "\n",
        "import numpy as np\n",
        "from matplotlib import pyplot as pl\n",
        "\n",
        "from tensorflow.keras.datasets import mnist\n",
        "from tensorflow.keras.models import Model\n",
        "from tensorflow.keras.layers import Dense, Dropout, Flatten, Conv2D, MaxPooling2D\n",
        "from tensorflow.keras.optimizers import RMSprop\n",
        "from tensorflow.keras.utils import to_categorical\n",
        "from tensorflow.keras.layers import Input\n",
        "from scipy import stats\n",
        "\n",
        "%matplotlib inline"
      ]
    },
    {
      "cell_type": "markdown",
      "metadata": {
        "id": "vbttXt8SbfOH"
      },
      "source": [
        "First, create some useful functions"
      ]
    },
    {
      "cell_type": "code",
      "execution_count": 13,
      "metadata": {
        "id": "jAR9jPgybfOO"
      },
      "outputs": [],
      "source": [
        "def build_grid_of_images(array):\n",
        "    assert len(array.shape) == 3\n",
        "    dim_0 = np.sqrt(array.shape[0])\n",
        "    assert dim_0.is_integer()\n",
        "\n",
        "    temp_out = np.reshape(array, (dim_0, dim_0, array.shape[1], array.shape[2]))\n",
        "    temp_out = np.rollaxis(temp_out, 1, 3)\n",
        "    return np.reshape(temp_out, (dim_0*array.shape[1], dim_0*array.shape[2]))\n",
        "\n",
        "def plot_conv_layer_output(temp_out, title):\n",
        "    temp_to_plot = build_grid_of_images(temp_out)\n",
        "    pl.imshow(temp_to_plot, interpolation='nearest', cmap=pl.get_cmap('Greys'))\n",
        "    ax = pl.gca()\n",
        "    ax.set_xticks(np.arange(-0.5, temp_to_plot.shape[0]+0.5, temp_out.shape[1]))\n",
        "    ax.set_yticks(np.arange(-0.5, temp_to_plot.shape[0]+0.5, temp_out.shape[2]))\n",
        "    pl.grid()\n",
        "    pl.tick_params(axis='both', which='both', bottom='off', top='off', left='off', right='off', labelbottom='off', labelleft='off')\n",
        "    pl.title(title)\n",
        "\n",
        "def plot_dense_layer_output(temp_out, title):\n",
        "    pl.bar(np.arange(temp_out.shape[1])-0.4, temp_out[0,:])\n",
        "    pl.xlim(-0.5, temp_out.shape[1])\n",
        "    pl.grid()\n",
        "    pl.title(title)"
      ]
    },
    {
      "cell_type": "markdown",
      "metadata": {
        "id": "3fVOW4jGbfOb"
      },
      "source": [
        "Load the `mnist` dataset and normalize in the range [0, 1]"
      ]
    },
    {
      "cell_type": "code",
      "execution_count": 49,
      "metadata": {
        "colab": {
          "base_uri": "https://localhost:8080/"
        },
        "id": "2H2K3S4MbfOf",
        "outputId": "3ea455a5-0a9c-4437-f5d4-289dc382d8ba"
      },
      "outputs": [
        {
          "name": "stdout",
          "output_type": "stream",
          "text": [
            "60000 train samples\n",
            "10000 test samples\n"
          ]
        }
      ],
      "source": [
        "(X_train, y_train), (X_test, y_test) = mnist.load_data()\n",
        "\n",
        "n_train, height, width = X_train.shape\n",
        "n_test, _, _ = X_test.shape\n",
        "\n",
        "X_train = X_train.reshape(n_train, height, width, 1).astype('float32')\n",
        "X_test = X_test.reshape(n_test, height, width, 1).astype('float32')\n",
        "\n",
        "X_train /= 255.0\n",
        "X_test /= 255.0\n",
        "\n",
        "n_classes = 10\n",
        "\n",
        "print(n_train, 'train samples')\n",
        "print(n_test, 'test samples')\n",
        "\n",
        "# convert class vectors to binary class matrices\n",
        "Y_train = to_categorical(y_train, n_classes)\n",
        "Y_test = to_categorical(y_test, n_classes)"
      ]
    },
    {
      "cell_type": "code",
      "execution_count": 42,
      "metadata": {
        "colab": {
          "base_uri": "https://localhost:8080/"
        },
        "id": "4xhDKC7zWFgw",
        "outputId": "3644eb9c-adf2-4582-87bb-cea9f69a5526"
      },
      "outputs": [
        {
          "name": "stdout",
          "output_type": "stream",
          "text": [
            "X_train.shape =  (60000, 28, 28, 1)\n",
            "Y_train.shape =  (60000, 10)\n",
            "X_test.shape =  (10000, 28, 28, 1)\n",
            "Y_test.shape =  (10000, 10)\n"
          ]
        }
      ],
      "source": [
        "print('X_train.shape = ', X_train.shape)\n",
        "print('Y_train.shape = ', Y_train.shape)\n",
        "print('X_test.shape = ', X_test.shape)\n",
        "print('Y_test.shape = ', Y_test.shape)"
      ]
    },
    {
      "cell_type": "markdown",
      "metadata": {
        "id": "2B-WNiQUbfOq"
      },
      "source": [
        "Create the CNN and show its architecture"
      ]
    },
    {
      "cell_type": "code",
      "execution_count": 50,
      "metadata": {
        "colab": {
          "base_uri": "https://localhost:8080/",
          "height": 476
        },
        "id": "yhOscSNPbfOt",
        "outputId": "3249aae6-796a-400d-da1a-088f3eee7869"
      },
      "outputs": [
        {
          "data": {
            "text/html": [
              "<pre style=\"white-space:pre;overflow-x:auto;line-height:normal;font-family:Menlo,'DejaVu Sans Mono',consolas,'Courier New',monospace\"><span style=\"font-weight: bold\">Model: \"functional_19\"</span>\n",
              "</pre>\n"
            ],
            "text/plain": [
              "\u001b[1mModel: \"functional_19\"\u001b[0m\n"
            ]
          },
          "metadata": {},
          "output_type": "display_data"
        },
        {
          "data": {
            "text/html": [
              "<pre style=\"white-space:pre;overflow-x:auto;line-height:normal;font-family:Menlo,'DejaVu Sans Mono',consolas,'Courier New',monospace\">┏━━━━━━━━━━━━━━━━━━━━━━━━━━━━━━━━━┳━━━━━━━━━━━━━━━━━━━━━━━━┳━━━━━━━━━━━━━━━┓\n",
              "┃<span style=\"font-weight: bold\"> Layer (type)                    </span>┃<span style=\"font-weight: bold\"> Output Shape           </span>┃<span style=\"font-weight: bold\">       Param # </span>┃\n",
              "┡━━━━━━━━━━━━━━━━━━━━━━━━━━━━━━━━━╇━━━━━━━━━━━━━━━━━━━━━━━━╇━━━━━━━━━━━━━━━┩\n",
              "│ l0 (<span style=\"color: #0087ff; text-decoration-color: #0087ff\">InputLayer</span>)                 │ (<span style=\"color: #00d7ff; text-decoration-color: #00d7ff\">None</span>, <span style=\"color: #00af00; text-decoration-color: #00af00\">28</span>, <span style=\"color: #00af00; text-decoration-color: #00af00\">28</span>, <span style=\"color: #00af00; text-decoration-color: #00af00\">1</span>)      │             <span style=\"color: #00af00; text-decoration-color: #00af00\">0</span> │\n",
              "├─────────────────────────────────┼────────────────────────┼───────────────┤\n",
              "│ l1 (<span style=\"color: #0087ff; text-decoration-color: #0087ff\">Conv2D</span>)                     │ (<span style=\"color: #00d7ff; text-decoration-color: #00d7ff\">None</span>, <span style=\"color: #00af00; text-decoration-color: #00af00\">28</span>, <span style=\"color: #00af00; text-decoration-color: #00af00\">28</span>, <span style=\"color: #00af00; text-decoration-color: #00af00\">32</span>)     │           <span style=\"color: #00af00; text-decoration-color: #00af00\">320</span> │\n",
              "├─────────────────────────────────┼────────────────────────┼───────────────┤\n",
              "│ l2 (<span style=\"color: #0087ff; text-decoration-color: #0087ff\">Conv2D</span>)                     │ (<span style=\"color: #00d7ff; text-decoration-color: #00d7ff\">None</span>, <span style=\"color: #00af00; text-decoration-color: #00af00\">28</span>, <span style=\"color: #00af00; text-decoration-color: #00af00\">28</span>, <span style=\"color: #00af00; text-decoration-color: #00af00\">32</span>)     │         <span style=\"color: #00af00; text-decoration-color: #00af00\">9,248</span> │\n",
              "├─────────────────────────────────┼────────────────────────┼───────────────┤\n",
              "│ l3 (<span style=\"color: #0087ff; text-decoration-color: #0087ff\">Conv2D</span>)                     │ (<span style=\"color: #00d7ff; text-decoration-color: #00d7ff\">None</span>, <span style=\"color: #00af00; text-decoration-color: #00af00\">28</span>, <span style=\"color: #00af00; text-decoration-color: #00af00\">28</span>, <span style=\"color: #00af00; text-decoration-color: #00af00\">32</span>)     │         <span style=\"color: #00af00; text-decoration-color: #00af00\">9,248</span> │\n",
              "├─────────────────────────────────┼────────────────────────┼───────────────┤\n",
              "│ l3_mp (<span style=\"color: #0087ff; text-decoration-color: #0087ff\">MaxPooling2D</span>)            │ (<span style=\"color: #00d7ff; text-decoration-color: #00d7ff\">None</span>, <span style=\"color: #00af00; text-decoration-color: #00af00\">14</span>, <span style=\"color: #00af00; text-decoration-color: #00af00\">14</span>, <span style=\"color: #00af00; text-decoration-color: #00af00\">32</span>)     │             <span style=\"color: #00af00; text-decoration-color: #00af00\">0</span> │\n",
              "├─────────────────────────────────┼────────────────────────┼───────────────┤\n",
              "│ flat (<span style=\"color: #0087ff; text-decoration-color: #0087ff\">Flatten</span>)                  │ (<span style=\"color: #00d7ff; text-decoration-color: #00d7ff\">None</span>, <span style=\"color: #00af00; text-decoration-color: #00af00\">6272</span>)           │             <span style=\"color: #00af00; text-decoration-color: #00af00\">0</span> │\n",
              "├─────────────────────────────────┼────────────────────────┼───────────────┤\n",
              "│ l4 (<span style=\"color: #0087ff; text-decoration-color: #0087ff\">Dense</span>)                      │ (<span style=\"color: #00d7ff; text-decoration-color: #00d7ff\">None</span>, <span style=\"color: #00af00; text-decoration-color: #00af00\">128</span>)            │       <span style=\"color: #00af00; text-decoration-color: #00af00\">802,944</span> │\n",
              "├─────────────────────────────────┼────────────────────────┼───────────────┤\n",
              "│ l5 (<span style=\"color: #0087ff; text-decoration-color: #0087ff\">Dense</span>)                      │ (<span style=\"color: #00d7ff; text-decoration-color: #00d7ff\">None</span>, <span style=\"color: #00af00; text-decoration-color: #00af00\">10</span>)             │         <span style=\"color: #00af00; text-decoration-color: #00af00\">1,290</span> │\n",
              "└─────────────────────────────────┴────────────────────────┴───────────────┘\n",
              "</pre>\n"
            ],
            "text/plain": [
              "┏━━━━━━━━━━━━━━━━━━━━━━━━━━━━━━━━━┳━━━━━━━━━━━━━━━━━━━━━━━━┳━━━━━━━━━━━━━━━┓\n",
              "┃\u001b[1m \u001b[0m\u001b[1mLayer (type)                   \u001b[0m\u001b[1m \u001b[0m┃\u001b[1m \u001b[0m\u001b[1mOutput Shape          \u001b[0m\u001b[1m \u001b[0m┃\u001b[1m \u001b[0m\u001b[1m      Param #\u001b[0m\u001b[1m \u001b[0m┃\n",
              "┡━━━━━━━━━━━━━━━━━━━━━━━━━━━━━━━━━╇━━━━━━━━━━━━━━━━━━━━━━━━╇━━━━━━━━━━━━━━━┩\n",
              "│ l0 (\u001b[38;5;33mInputLayer\u001b[0m)                 │ (\u001b[38;5;45mNone\u001b[0m, \u001b[38;5;34m28\u001b[0m, \u001b[38;5;34m28\u001b[0m, \u001b[38;5;34m1\u001b[0m)      │             \u001b[38;5;34m0\u001b[0m │\n",
              "├─────────────────────────────────┼────────────────────────┼───────────────┤\n",
              "│ l1 (\u001b[38;5;33mConv2D\u001b[0m)                     │ (\u001b[38;5;45mNone\u001b[0m, \u001b[38;5;34m28\u001b[0m, \u001b[38;5;34m28\u001b[0m, \u001b[38;5;34m32\u001b[0m)     │           \u001b[38;5;34m320\u001b[0m │\n",
              "├─────────────────────────────────┼────────────────────────┼───────────────┤\n",
              "│ l2 (\u001b[38;5;33mConv2D\u001b[0m)                     │ (\u001b[38;5;45mNone\u001b[0m, \u001b[38;5;34m28\u001b[0m, \u001b[38;5;34m28\u001b[0m, \u001b[38;5;34m32\u001b[0m)     │         \u001b[38;5;34m9,248\u001b[0m │\n",
              "├─────────────────────────────────┼────────────────────────┼───────────────┤\n",
              "│ l3 (\u001b[38;5;33mConv2D\u001b[0m)                     │ (\u001b[38;5;45mNone\u001b[0m, \u001b[38;5;34m28\u001b[0m, \u001b[38;5;34m28\u001b[0m, \u001b[38;5;34m32\u001b[0m)     │         \u001b[38;5;34m9,248\u001b[0m │\n",
              "├─────────────────────────────────┼────────────────────────┼───────────────┤\n",
              "│ l3_mp (\u001b[38;5;33mMaxPooling2D\u001b[0m)            │ (\u001b[38;5;45mNone\u001b[0m, \u001b[38;5;34m14\u001b[0m, \u001b[38;5;34m14\u001b[0m, \u001b[38;5;34m32\u001b[0m)     │             \u001b[38;5;34m0\u001b[0m │\n",
              "├─────────────────────────────────┼────────────────────────┼───────────────┤\n",
              "│ flat (\u001b[38;5;33mFlatten\u001b[0m)                  │ (\u001b[38;5;45mNone\u001b[0m, \u001b[38;5;34m6272\u001b[0m)           │             \u001b[38;5;34m0\u001b[0m │\n",
              "├─────────────────────────────────┼────────────────────────┼───────────────┤\n",
              "│ l4 (\u001b[38;5;33mDense\u001b[0m)                      │ (\u001b[38;5;45mNone\u001b[0m, \u001b[38;5;34m128\u001b[0m)            │       \u001b[38;5;34m802,944\u001b[0m │\n",
              "├─────────────────────────────────┼────────────────────────┼───────────────┤\n",
              "│ l5 (\u001b[38;5;33mDense\u001b[0m)                      │ (\u001b[38;5;45mNone\u001b[0m, \u001b[38;5;34m10\u001b[0m)             │         \u001b[38;5;34m1,290\u001b[0m │\n",
              "└─────────────────────────────────┴────────────────────────┴───────────────┘\n"
            ]
          },
          "metadata": {},
          "output_type": "display_data"
        },
        {
          "data": {
            "text/html": [
              "<pre style=\"white-space:pre;overflow-x:auto;line-height:normal;font-family:Menlo,'DejaVu Sans Mono',consolas,'Courier New',monospace\"><span style=\"font-weight: bold\"> Total params: </span><span style=\"color: #00af00; text-decoration-color: #00af00\">823,050</span> (3.14 MB)\n",
              "</pre>\n"
            ],
            "text/plain": [
              "\u001b[1m Total params: \u001b[0m\u001b[38;5;34m823,050\u001b[0m (3.14 MB)\n"
            ]
          },
          "metadata": {},
          "output_type": "display_data"
        },
        {
          "data": {
            "text/html": [
              "<pre style=\"white-space:pre;overflow-x:auto;line-height:normal;font-family:Menlo,'DejaVu Sans Mono',consolas,'Courier New',monospace\"><span style=\"font-weight: bold\"> Trainable params: </span><span style=\"color: #00af00; text-decoration-color: #00af00\">823,050</span> (3.14 MB)\n",
              "</pre>\n"
            ],
            "text/plain": [
              "\u001b[1m Trainable params: \u001b[0m\u001b[38;5;34m823,050\u001b[0m (3.14 MB)\n"
            ]
          },
          "metadata": {},
          "output_type": "display_data"
        },
        {
          "data": {
            "text/html": [
              "<pre style=\"white-space:pre;overflow-x:auto;line-height:normal;font-family:Menlo,'DejaVu Sans Mono',consolas,'Courier New',monospace\"><span style=\"font-weight: bold\"> Non-trainable params: </span><span style=\"color: #00af00; text-decoration-color: #00af00\">0</span> (0.00 B)\n",
              "</pre>\n"
            ],
            "text/plain": [
              "\u001b[1m Non-trainable params: \u001b[0m\u001b[38;5;34m0\u001b[0m (0.00 B)\n"
            ]
          },
          "metadata": {},
          "output_type": "display_data"
        }
      ],
      "source": [
        "l0 = Input(shape=(height, width, 1), name='l0')\n",
        "\n",
        "l1 = Conv2D(32, (3, 3), padding='same', activation='relu', name='l1')(l0)\n",
        "#l1_mp = MaxPooling2D(pool_size=(2, 2), name='l1_mp')(l1)\n",
        "\n",
        "l2 = Conv2D(32, (3, 3), padding='same', activation='relu', name='l2')(l1)\n",
        "#l2_mp = MaxPooling2D(pool_size=(2, 2), name='l2_mp')(l2)\n",
        "\n",
        "l3 = Conv2D(32, (3, 3), padding='same', activation='relu', name='l3')(l2)\n",
        "l3_mp = MaxPooling2D(pool_size=(2, 2), name='l3_mp')(l3)\n",
        "\n",
        "flat = Flatten(name='flat')(l3_mp)\n",
        "\n",
        "l4 = Dense(128, activation='relu', name='l4')(flat)\n",
        "l5 = Dense(n_classes, activation='softmax', name='l5')(l4)\n",
        "\n",
        "model = Model(inputs=l0, outputs=l5)\n",
        "model.summary()"
      ]
    },
    {
      "cell_type": "markdown",
      "metadata": {
        "id": "sP_cugPCbfO6"
      },
      "source": [
        "Define some constants and train de CNN"
      ]
    },
    {
      "cell_type": "code",
      "execution_count": 51,
      "metadata": {
        "colab": {
          "base_uri": "https://localhost:8080/"
        },
        "id": "l8eKqD80bfPB",
        "outputId": "2f4a1a3c-194b-4e89-beed-8f365be8c6ee"
      },
      "outputs": [
        {
          "name": "stdout",
          "output_type": "stream",
          "text": [
            "Epoch 1/3\n",
            "\u001b[1m422/422\u001b[0m \u001b[32m━━━━━━━━━━━━━━━━━━━━\u001b[0m\u001b[37m\u001b[0m \u001b[1m67s\u001b[0m 157ms/step - accuracy: 0.8711 - loss: 0.4125 - val_accuracy: 0.9840 - val_loss: 0.0576\n",
            "Epoch 2/3\n",
            "\u001b[1m422/422\u001b[0m \u001b[32m━━━━━━━━━━━━━━━━━━━━\u001b[0m\u001b[37m\u001b[0m \u001b[1m67s\u001b[0m 158ms/step - accuracy: 0.9853 - loss: 0.0457 - val_accuracy: 0.9868 - val_loss: 0.0456\n",
            "Epoch 3/3\n",
            "\u001b[1m422/422\u001b[0m \u001b[32m━━━━━━━━━━━━━━━━━━━━\u001b[0m\u001b[37m\u001b[0m \u001b[1m67s\u001b[0m 158ms/step - accuracy: 0.9915 - loss: 0.0268 - val_accuracy: 0.9887 - val_loss: 0.0417\n"
          ]
        }
      ],
      "source": [
        "batch_size = 128\n",
        "n_epoch = 3\n",
        "\n",
        "model.compile(loss='categorical_crossentropy', optimizer=RMSprop(), metrics=['accuracy'])\n",
        "\n",
        "history = model.fit(X_train, Y_train, batch_size=batch_size, epochs=n_epoch, verbose=1, validation_split=0.1)"
      ]
    },
    {
      "cell_type": "markdown",
      "metadata": {
        "id": "IBX2Tc_0bfPK"
      },
      "source": [
        "Show the performance of the model"
      ]
    },
    {
      "cell_type": "code",
      "execution_count": 52,
      "metadata": {
        "colab": {
          "base_uri": "https://localhost:8080/",
          "height": 467
        },
        "id": "WeaMjl-EbfPS",
        "outputId": "621f5dd2-6207-448d-e123-074551d2c064"
      },
      "outputs": [
        {
          "name": "stdout",
          "output_type": "stream",
          "text": [
            "Test score: 0.03630991652607918\n",
            "Test accuracy: 0.987500011920929\n"
          ]
        },
        {
          "data": {
            "image/png": "[encoded data removed]",
            "text/plain": [
              "<Figure size 640x480 with 1 Axes>"
            ]
          },
          "metadata": {},
          "output_type": "display_data"
        }
      ],
      "source": [
        "pl.plot(history.history['loss'], label='Training')\n",
        "pl.plot(history.history['val_loss'], label='Testing')\n",
        "pl.legend()\n",
        "pl.grid()\n",
        "\n",
        "score = model.evaluate(X_test, Y_test, verbose=0)\n",
        "print('Test score:', score[0])\n",
        "print('Test accuracy:', score[1])"
      ]
    },
    {
      "cell_type": "markdown",
      "metadata": {
        "id": "rXNZ2ZHSbfPm"
      },
      "source": [
        "Confusion matrix"
      ]
    },
    {
      "cell_type": "code",
      "execution_count": 53,
      "metadata": {
        "colab": {
          "base_uri": "https://localhost:8080/"
        },
        "id": "XfgRipFebfPm",
        "outputId": "48337b04-7049-45a3-c832-09aa3a77bd8c"
      },
      "outputs": [
        {
          "name": "stdout",
          "output_type": "stream",
          "text": [
            "\u001b[1m313/313\u001b[0m \u001b[32m━━━━━━━━━━━━━━━━━━━━\u001b[0m\u001b[37m\u001b[0m \u001b[1m2s\u001b[0m 6ms/step\n",
            "pred.shape =  (10000, 10)\n"
          ]
        },
        {
          "data": {
            "text/plain": [
              "array([[ 975,    0,    0,    0,    0,    0,    2,    0,    2,    1],\n",
              "       [   0, 1131,    0,    2,    0,    1,    0,    0,    0,    1],\n",
              "       [   1,    3, 1018,    2,    1,    0,    0,    5,    1,    1],\n",
              "       [   0,    0,    1, 1002,    0,    1,    0,    1,    3,    2],\n",
              "       [   0,    0,    0,    0,  972,    0,    1,    0,    1,    8],\n",
              "       [   0,    0,    0,   10,    0,  879,    1,    0,    0,    2],\n",
              "       [   4,    2,    0,    1,    2,    5,  941,    0,    3,    0],\n",
              "       [   1,    0,    3,    3,    1,    0,    0, 1006,    1,   13],\n",
              "       [   1,    0,    1,    4,    0,    4,    0,    3,  949,   12],\n",
              "       [   2,    0,    0,    1,    2,    1,    0,    1,    0, 1002]])"
            ]
          },
          "execution_count": 53,
          "metadata": {},
          "output_type": "execute_result"
        }
      ],
      "source": [
        "from sklearn.metrics import confusion_matrix\n",
        "\n",
        "pred = model.predict(X_test)\n",
        "print('pred.shape = ', pred.shape)\n",
        "pred = np.argmax(pred, axis=-1)\n",
        "confusion_matrix(y_test, pred)"
      ]
    },
    {
      "cell_type": "code",
      "execution_count": 54,
      "metadata": {
        "id": "1WNDeJBZXR-O"
      },
      "outputs": [
        {
          "data": {
            "image/png": "[encoded data removed]",
            "text/plain": [
              "<Figure size 640x480 with 2 Axes>"
            ]
          },
          "metadata": {},
          "output_type": "display_data"
        }
      ],
      "source": [
        "from sklearn.metrics import ConfusionMatrixDisplay\n",
        "disp = ConfusionMatrixDisplay(confusion_matrix=confusion_matrix(y_test, pred))\n",
        "disp.plot()\n",
        "pl.show()"
      ]
    }
  ],
  "metadata": {
    "accelerator": "GPU",
    "colab": {
      "provenance": []
    },
    "kernelspec": {
      "display_name": "Python 3 (ipykernel)",
      "language": "python",
      "name": "python3"
    },
    "language_info": {
      "codemirror_mode": {
        "name": "ipython",
        "version": 3
      },
      "file_extension": ".py",
      "mimetype": "text/x-python",
      "name": "python",
      "nbconvert_exporter": "python",
      "pygments_lexer": "ipython3",
      "version": "3.9.18"
    }
  },
  "nbformat": 4,
  "nbformat_minor": 0
}
