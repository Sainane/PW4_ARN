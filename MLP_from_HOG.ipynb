{
 "cells": [
  {
   "cell_type": "markdown",
   "metadata": {
    "id": "X_wPegydbafH"
   },
   "source": [
    "# Computing features to train a MLP\n",
    "This notebook will guide you through the use of the `keras` package to train a multilayer perceptron for handwritten digits classification. You are going to computing the histogram of gradients from the images in the `mnist` dataset (LeCun et al. 1998)"
   ]
  },
  {
   "cell_type": "markdown",
   "metadata": {
    "id": "61oGWRyMbafJ"
   },
   "source": [
    "## Loading the packages"
   ]
  },
  {
   "cell_type": "code",
   "execution_count": 81,
   "metadata": {
    "ExecuteTime": {
     "end_time": "2024-05-09T09:52:49.756769Z",
     "start_time": "2024-05-09T09:52:49.657934Z"
    },
    "colab": {
     "base_uri": "https://localhost:8080/"
    },
    "id": "duI9Ar-8bafS",
    "metadata": {},
    "outputId": "cb44789a-d59e-4fbb-aef0-52c174cc8f05"
   },
   "outputs": [],
   "source": [
    "#%pip install tensorflow --upgrade\n",
    "#%pip install keras --upgrade\n",
    "\n",
    "import numpy as np\n",
    "from matplotlib import pyplot as pl\n",
    "\n",
    "from skimage.feature import hog\n",
    "from skimage import data, color, exposure\n",
    "\n",
    "from tensorflow.keras.datasets import mnist\n",
    "from tensorflow.keras.models import Sequential\n",
    "from tensorflow.keras.layers import Dense, Dropout\n",
    "from tensorflow.keras.optimizers import RMSprop\n",
    "from tensorflow.keras.utils import to_categorical\n",
    "\n",
    "%matplotlib inline"
   ]
  },
  {
   "cell_type": "markdown",
   "metadata": {
    "id": "KpPmUqiRbafz"
   },
   "source": [
    "Load the `mnist` dataset and normalize in the range [0, 1]"
   ]
  },
  {
   "cell_type": "code",
   "execution_count": 82,
   "metadata": {
    "ExecuteTime": {
     "end_time": "2024-05-09T09:35:14.570875Z",
     "start_time": "2024-05-09T09:35:14.446704Z"
    },
    "colab": {
     "base_uri": "https://localhost:8080/"
    },
    "id": "verKKFaFbaf6",
    "metadata": {},
    "outputId": "14ba04ef-cfed-42f2-890f-31121f29f19b"
   },
   "outputs": [
    {
     "name": "stdout",
     "output_type": "stream",
     "text": [
      "60000 train samples\n",
      "10000 test samples\n"
     ]
    }
   ],
   "source": [
    "(X_train, y_train), (X_test, y_test) = mnist.load_data()\n",
    "\n",
    "n_train, height, width = X_train.shape\n",
    "n_test, _, _ = X_test.shape\n",
    "\n",
    "X_train = X_train.reshape(n_train, height, width, 1).astype('float32')\n",
    "X_test = X_test.reshape(n_test, height, width, 1).astype('float32')\n",
    "\n",
    "X_train /= 255.0\n",
    "X_test /= 255.0\n",
    "\n",
    "n_classes = 10\n",
    "\n",
    "print(n_train, 'train samples')\n",
    "print(n_test, 'test samples')\n",
    "\n",
    "# convert class vectors to binary class matrices\n",
    "Y_train = to_categorical(y_train, n_classes)\n",
    "Y_test = to_categorical(y_test, n_classes)"
   ]
  },
  {
   "cell_type": "markdown",
   "metadata": {
    "id": "TazeB7LLbagE"
   },
   "source": [
    "### An example of how to compute the histogram of gradients\n",
    "Let's compute the HOG for one image in the test dataset"
   ]
  },
  {
   "cell_type": "code",
   "execution_count": 71,
   "metadata": {
    "id": "cL-609oKbagI",
    "metadata": {}
   },
   "outputs": [],
   "source": [
    "n_orientations = 16\n",
    "pix_p_cell = 4\n",
    "hog_size = int(height * width * n_orientations / (pix_p_cell * pix_p_cell))"
   ]
  },
  {
   "cell_type": "code",
   "execution_count": 72,
   "metadata": {
    "id": "r2DA2Da_bage",
    "metadata": {}
   },
   "outputs": [],
   "source": [
    "fd, hog_image = hog(X_test[0,:,:,0], orientations=n_orientations, pixels_per_cell=(pix_p_cell, pix_p_cell), cells_per_block=(1, 1), visualize=True)\n",
    "hog_image_rescaled = exposure.rescale_intensity(hog_image, in_range=(0, 0.02))"
   ]
  },
  {
   "cell_type": "markdown",
   "metadata": {
    "id": "s2Ow4uJtbago"
   },
   "source": [
    "Show the image and the corresponding gradients"
   ]
  },
  {
   "cell_type": "code",
   "execution_count": 73,
   "metadata": {
    "colab": {
     "base_uri": "https://localhost:8080/",
     "height": 482
    },
    "id": "83RZeljKbagu",
    "metadata": {},
    "outputId": "2bc0a642-793b-4f71-e447-805c85b15f7b"
   },
   "outputs": [
    {
     "data": {
      "image/png": "[encoded data removed]",
      "text/plain": [
       "<Figure size 1200x600 with 2 Axes>"
      ]
     },
     "metadata": {},
     "output_type": "display_data"
    }
   ],
   "source": [
    "fig, (ax1, ax2) = pl.subplots(1, 2, figsize=(12, 6), sharex=True, sharey=True)\n",
    "ax1.axis('off')\n",
    "ax1.imshow(X_test[0,:,:,0], cmap=pl.get_cmap('Greys'), interpolation='nearest')\n",
    "ax1.set_title('Input image')\n",
    "ax1.set_adjustable('box')\n",
    "\n",
    "ax2.axis('off')\n",
    "ax2.imshow(hog_image_rescaled, cmap=pl.get_cmap('Greys'), interpolation='nearest')\n",
    "ax2.set_title('Histogram of Oriented Gradients')\n",
    "ax1.set_adjustable('box')"
   ]
  },
  {
   "cell_type": "markdown",
   "metadata": {
    "id": "3Yv-ep9ybag4"
   },
   "source": [
    "Compute the HOGs for the train and test datasets\n"
   ]
  },
  {
   "cell_type": "code",
   "execution_count": 74,
   "metadata": {
    "colab": {
     "base_uri": "https://localhost:8080/"
    },
    "id": "y8Q3cdrebag6",
    "metadata": {},
    "outputId": "b217e8d7-c330-4a38-ad81-1a26679dce36"
   },
   "outputs": [
    {
     "name": "stdout",
     "output_type": "stream",
     "text": [
      "X_train done\n",
      "X_test done\n"
     ]
    }
   ],
   "source": [
    "X_train_hog = np.zeros((X_train.shape[0], hog_size))\n",
    "X_test_hog = np.zeros((X_test.shape[0], hog_size))\n",
    "\n",
    "for i in np.arange(X_train_hog.shape[0]):\n",
    "    X_train_hog[i,:] = hog(X_train[i,:,:,0], orientations=n_orientations, pixels_per_cell=(pix_p_cell, pix_p_cell), cells_per_block=(1, 1), visualize=False)\n",
    "print('X_train done')\n",
    "\n",
    "for i in np.arange(X_test_hog.shape[0]):\n",
    "    X_test_hog[i,:] = hog(X_test[i,:,:,0], orientations=n_orientations, pixels_per_cell=(pix_p_cell, pix_p_cell), cells_per_block=(1, 1), visualize=False)\n",
    "print('X_test done')"
   ]
  },
  {
   "cell_type": "code",
   "execution_count": 75,
   "metadata": {
    "metadata": {}
   },
   "outputs": [
    {
     "data": {
      "text/plain": [
       "784"
      ]
     },
     "execution_count": 75,
     "metadata": {},
     "output_type": "execute_result"
    }
   ],
   "source": [
    "hog_size"
   ]
  },
  {
   "cell_type": "markdown",
   "metadata": {
    "id": "kos0aTYmbahU"
   },
   "source": [
    "Create the MLP"
   ]
  },
  {
   "cell_type": "code",
   "execution_count": 83,
   "metadata": {
    "colab": {
     "base_uri": "https://localhost:8080/",
     "height": 204
    },
    "id": "NnawtqztbahV",
    "metadata": {},
    "outputId": "90dacea3-57e5-40f3-b122-8663c197930a"
   },
   "outputs": [
    {
     "name": "stdout",
     "output_type": "stream",
     "text": [
      "Model: \"sequential_9\"\n",
      "_________________________________________________________________\n",
      " Layer (type)                Output Shape              Param #   \n",
      "=================================================================\n",
      " dense_19 (Dense)            (None, 128)               100480    \n",
      "                                                                 \n",
      " dropout_9 (Dropout)         (None, 128)               0         \n",
      "                                                                 \n",
      " dense_20 (Dense)            (None, 10)                1290      \n",
      "                                                                 \n",
      "=================================================================\n",
      "Total params: 101,770\n",
      "Trainable params: 101,770\n",
      "Non-trainable params: 0\n",
      "_________________________________________________________________\n"
     ]
    }
   ],
   "source": [
    "model = Sequential()\n",
    "model.add(Dense(128, input_shape=(hog_size,), activation='relu'))\n",
    "model.add(Dropout(0.5))\n",
    "model.add(Dense(n_classes, activation='softmax'))\n",
    "\n",
    "model.summary()"
   ]
  },
  {
   "cell_type": "markdown",
   "metadata": {
    "id": "EGeviXzJbahY"
   },
   "source": [
    "Define some constants and train the MLP"
   ]
  },
  {
   "cell_type": "code",
   "execution_count": 84,
   "metadata": {
    "colab": {
     "base_uri": "https://localhost:8080/"
    },
    "id": "laKFY8vcbahZ",
    "metadata": {},
    "outputId": "6b454752-d578-4f6c-a6a7-b5ce43b66aa7"
   },
   "outputs": [
    {
     "name": "stdout",
     "output_type": "stream",
     "text": [
      "Epoch 1/10\n",
      "211/211 [==============================] - 3s 10ms/step - loss: 0.4450 - accuracy: 0.8870 - val_loss: 0.1014 - val_accuracy: 0.9732\n",
      "Epoch 2/10\n",
      "211/211 [==============================] - 2s 9ms/step - loss: 0.1510 - accuracy: 0.9541 - val_loss: 0.0770 - val_accuracy: 0.9775\n",
      "Epoch 3/10\n",
      "211/211 [==============================] - 2s 8ms/step - loss: 0.1184 - accuracy: 0.9646 - val_loss: 0.0689 - val_accuracy: 0.9790\n",
      "Epoch 4/10\n",
      "211/211 [==============================] - 2s 9ms/step - loss: 0.1007 - accuracy: 0.9689 - val_loss: 0.0649 - val_accuracy: 0.9797\n",
      "Epoch 5/10\n",
      "211/211 [==============================] - 2s 8ms/step - loss: 0.0895 - accuracy: 0.9722 - val_loss: 0.0637 - val_accuracy: 0.9797\n",
      "Epoch 6/10\n",
      "211/211 [==============================] - 2s 9ms/step - loss: 0.0819 - accuracy: 0.9745 - val_loss: 0.0618 - val_accuracy: 0.9798\n",
      "Epoch 7/10\n",
      "211/211 [==============================] - 2s 7ms/step - loss: 0.0737 - accuracy: 0.9770 - val_loss: 0.0617 - val_accuracy: 0.9807\n",
      "Epoch 8/10\n",
      "211/211 [==============================] - 2s 9ms/step - loss: 0.0709 - accuracy: 0.9777 - val_loss: 0.0602 - val_accuracy: 0.9802\n",
      "Epoch 9/10\n",
      "211/211 [==============================] - 2s 8ms/step - loss: 0.0645 - accuracy: 0.9801 - val_loss: 0.0619 - val_accuracy: 0.9793\n",
      "Epoch 10/10\n",
      "211/211 [==============================] - 2s 8ms/step - loss: 0.0614 - accuracy: 0.9812 - val_loss: 0.0624 - val_accuracy: 0.9800\n"
     ]
    }
   ],
   "source": [
    "batch_size = 256\n",
    "n_epoch = 10\n",
    "\n",
    "model.compile(loss='categorical_crossentropy', optimizer=RMSprop(), metrics=['accuracy'])\n",
    "\n",
    "history = model.fit(X_train_hog, Y_train,\n",
    "                    batch_size=batch_size, epochs=n_epoch,\n",
    "                    verbose=1, validation_split=0.1)"
   ]
  },
  {
   "cell_type": "markdown",
   "metadata": {
    "id": "aezTZuCMbahf"
   },
   "source": [
    "Show the performance of the model"
   ]
  },
  {
   "cell_type": "code",
   "execution_count": 85,
   "metadata": {
    "colab": {
     "base_uri": "https://localhost:8080/",
     "height": 467
    },
    "id": "u6E66I52bahg",
    "metadata": {},
    "outputId": "ed988a39-d225-4fe8-9169-c6a99db2a7a9"
   },
   "outputs": [
    {
     "name": "stdout",
     "output_type": "stream",
     "text": [
      "Test score: 0.061707451939582825\n",
      "Test accuracy: 0.9807999730110168\n"
     ]
    },
    {
     "data": {
      "image/png": "[encoded data removed]",
      "text/plain": [
       "<Figure size 640x480 with 1 Axes>"
      ]
     },
     "metadata": {},
     "output_type": "display_data"
    }
   ],
   "source": [
    "pl.plot(history.history['loss'], label='Training')\n",
    "pl.plot(history.history['val_loss'], label='Testing')\n",
    "pl.legend()\n",
    "pl.grid()\n",
    "\n",
    "score = model.evaluate(X_test_hog, Y_test, verbose=0)\n",
    "print('Test score:', score[0])\n",
    "print('Test accuracy:', score[1])"
   ]
  },
  {
   "cell_type": "markdown",
   "metadata": {
    "id": "axdxLHYMbahu"
   },
   "source": [
    "Confusion matrix"
   ]
  },
  {
   "cell_type": "code",
   "execution_count": 79,
   "metadata": {
    "colab": {
     "base_uri": "https://localhost:8080/"
    },
    "id": "Mhm1wjNfbahv",
    "metadata": {},
    "outputId": "1c499d9c-6b1d-49f4-e741-b4c3327f17a0"
   },
   "outputs": [
    {
     "name": "stdout",
     "output_type": "stream",
     "text": [
      "313/313 [==============================] - 1s 3ms/step\n"
     ]
    },
    {
     "data": {
      "text/plain": [
       "array([[ 970,    1,    2,    0,    0,    1,    4,    1,    0,    1],\n",
       "       [   0, 1127,    2,    2,    0,    0,    2,    0,    2,    0],\n",
       "       [   2,    4, 1016,    2,    1,    0,    0,    5,    2,    0],\n",
       "       [   0,    1,    2,  989,    1,    7,    0,    2,    8,    0],\n",
       "       [   0,    6,    3,    1,  960,    0,    3,    1,    2,    6],\n",
       "       [   2,    1,    1,    5,    0,  878,    4,    0,    1,    0],\n",
       "       [   5,    1,    0,    0,    2,    5,  944,    0,    1,    0],\n",
       "       [   1,    2,    7,    3,    5,    0,    0,  998,    4,    8],\n",
       "       [   4,    1,    2,    4,    2,    2,    2,    4,  951,    2],\n",
       "       [   2,    4,    0,    5,    7,    5,    1,    6,    7,  972]],\n",
       "      dtype=int64)"
      ]
     },
     "execution_count": 79,
     "metadata": {},
     "output_type": "execute_result"
    }
   ],
   "source": [
    "from sklearn.metrics import confusion_matrix\n",
    "\n",
    "pred = model.predict(X_test_hog)\n",
    "pred = np.argmax(pred, axis=-1)\n",
    "confusion_matrix(y_test, pred)"
   ]
  },
  {
   "cell_type": "code",
   "execution_count": 80,
   "metadata": {
    "metadata": {}
   },
   "outputs": [
    {
     "data": {
      "image/png": "[encoded data removed]",
      "text/plain": [
       "<Figure size 640x480 with 2 Axes>"
      ]
     },
     "metadata": {},
     "output_type": "display_data"
    }
   ],
   "source": [
    "from sklearn.metrics import ConfusionMatrixDisplay\n",
    "disp = ConfusionMatrixDisplay(confusion_matrix=confusion_matrix(y_test, pred))\n",
    "disp.plot()\n",
    "pl.show()"
   ]
  }
 ],
 "metadata": {
  "accelerator": "GPU",
  "colab": {
   "provenance": []
  },
  "kernelspec": {
   "display_name": "Python 3 (ipykernel)",
   "language": "python",
   "name": "python3"
  },
  "language_info": {
   "codemirror_mode": {
    "name": "ipython",
    "version": 3
   },
   "file_extension": ".py",
   "mimetype": "text/x-python",
   "name": "python",
   "nbconvert_exporter": "python",
   "pygments_lexer": "ipython3",
   "version": "3.8.19"
  }
 },
 "nbformat": 4,
 "nbformat_minor": 0
}
